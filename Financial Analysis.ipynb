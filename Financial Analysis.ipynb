{
 "cells": [
  {
   "cell_type": "markdown",
   "id": "fa64c857-ca97-45da-83f8-c2e1a8068546",
   "metadata": {},
   "source": [
    "## FINANCIAL ANALYSIS VOLUNTEERING PROJECT\n",
    "### FELIX IDOWU\n",
    "---"
   ]
  },
  {
   "cell_type": "markdown",
   "id": "0cbd5769-940f-4976-9c9a-d7206b224442",
   "metadata": {},
   "source": [
    "### OBJECTIVES\n",
    "#### Your task is to combine and analyze the two datasets to answer the following questions:\n",
    "1. #### Customer Demographics: What is the age distribution, gender ratio, and income distribution of the customers?\n",
    "2. #### Credit Card Ownership: How many credit cards does the average user have? Identify customers with multiple credit cards.\n",
    "3. #### Credit Risk Analysis: Identify customers with high total debt compared to their yearly income.\n",
    "4. #### Insights for Marketing: Provide insights on which group of customers might be ideal for targeted marketing campaigns (based on credit scores, income, and card types).\n",
    "---"
   ]
  },
  {
   "cell_type": "markdown",
   "id": "0f25955e-0bf7-4061-980a-fd93c1d335a4",
   "metadata": {},
   "source": [
    "### DATASET\n",
    "##### There are two datasets for this project [User_data](https://docs.google.com/spreadsheets/d/1baYcMQr-KCb9FwrY31mQC5ya8FblMHbY/edit?usp=sharing&ouid=102538990223331200198&rtpof=true&sd=true) and [Card_data](https://docs.google.com/spreadsheets/d/1azUzYFNynwX3KcyOT1sCXYD3BVz36eBd/edit?usp=sharing&ouid=102538990223331200198&rtpof=true&sd=true) Click the blue text to view Dataset"
   ]
  },
  {
   "cell_type": "markdown",
   "id": "64594460-87b4-4315-9593-8f2c74c2de37",
   "metadata": {
    "jp-MarkdownHeadingCollapsed": true
   },
   "source": [
    "#### Users_data: \n",
    "##### This contains demographic and financial information about the users.\n",
    "  ##### Columns:\n",
    "* ##### main_id: Unique user identifier (foreign key for client_id in cards_data)\n",
    "* ##### current_age, retirement_age\n",
    "* ##### gender\n",
    "* ##### address, latitude, longitude\n",
    "* ##### per_capita_income, yearly_income, total_debt, credit_score\n",
    "* ##### num_credit_cards: Number of credit cards the user owns"
   ]
  },
  {
   "cell_type": "markdown",
   "id": "b28f2f86-588f-4b14-945d-1defb1a5609e",
   "metadata": {},
   "source": [
    "#### Cards_data:\n",
    "##### Contains details about each credit card associated with a user.\n",
    "##### Columns:\n",
    "* ##### card_id: Unique identifier for each card\n",
    "* ##### client_id: Foreign key linked to main_id in users_data\n",
    "* ##### card_brand, card_type (e.g., Debit, Credit, Prepaid)\n",
    "* ##### expires, acct_open_date\n",
    "* ##### credit_limit, year_pin_last_changed\n",
    "---"
   ]
  },
  {
   "cell_type": "code",
   "execution_count": null,
   "id": "e7f7bae8-34ed-4dbc-a293-2b69bdc45a15",
   "metadata": {},
   "outputs": [],
   "source": []
  },
  {
   "cell_type": "markdown",
   "id": "aa005503-065a-4a7a-a53d-cbbb326cceb3",
   "metadata": {
    "jp-MarkdownHeadingCollapsed": true
   },
   "source": [
    "### Importing libraries needed\n"
   ]
  },
  {
   "cell_type": "code",
   "execution_count": 1,
   "id": "15c1763e-64e9-44b6-bc34-d1b229537603",
   "metadata": {},
   "outputs": [],
   "source": [
    "import pandas as pd\n",
    "import matplotlib.pyplot as plt"
   ]
  },
  {
   "cell_type": "code",
   "execution_count": 2,
   "id": "4c5fc45c-8817-43a3-94bf-cf24d09c73a2",
   "metadata": {},
   "outputs": [],
   "source": [
    "#importing dataset\n",
    "\n",
    "# pd.set_option('display.max_columns', None)  \n",
    "user=pd.read_excel('users_data.xlsx', sheet_name='users_data')\n",
    "card=pd.read_excel('cards_data.xlsx',sheet_name='cards_data')\n"
   ]
  },
  {
   "cell_type": "markdown",
   "id": "a43f2843-1352-41f1-8f57-c3e8c553321e",
   "metadata": {
    "jp-MarkdownHeadingCollapsed": true
   },
   "source": [
    "### Data Preparation"
   ]
  },
  {
   "cell_type": "code",
   "execution_count": 3,
   "id": "6def229c-38f5-4173-b2f7-acefc1fa3bff",
   "metadata": {},
   "outputs": [
    {
     "data": {
      "text/plain": [
       "Index(['main_id', 'current_age', 'retirement_age', 'birth_year', 'birth_month',\n",
       "       'gender', 'address', 'latitude', 'longitude', 'per_capita_income',\n",
       "       'yearly_income', 'total_debt', 'credit_score', 'num_credit_cards'],\n",
       "      dtype='object')"
      ]
     },
     "execution_count": 3,
     "metadata": {},
     "output_type": "execute_result"
    }
   ],
   "source": [
    "user.columns"
   ]
  },
  {
   "cell_type": "code",
   "execution_count": 4,
   "id": "1f115827-2b6c-4ffc-8971-b6e527f7fb8b",
   "metadata": {},
   "outputs": [
    {
     "data": {
      "text/plain": [
       "Index(['card_id', 'client_id', 'card_brand', 'card_type', 'card_number',\n",
       "       'expires', 'cvv', 'has_chip', 'num_cards_issued', 'credit_limit',\n",
       "       'acct_open_date', 'year_pin_last_changed'],\n",
       "      dtype='object')"
      ]
     },
     "execution_count": 4,
     "metadata": {},
     "output_type": "execute_result"
    }
   ],
   "source": [
    "card.columns"
   ]
  },
  {
   "cell_type": "code",
   "execution_count": 5,
   "id": "3c0556f0-652c-4391-9377-23ce376e0121",
   "metadata": {},
   "outputs": [
    {
     "name": "stdout",
     "output_type": "stream",
     "text": [
      "0 , 0\n"
     ]
    }
   ],
   "source": [
    "#Checking for duplicates in the primary key \n",
    "print(card.card_id.duplicated().sum(),',',user.main_id.duplicated().sum())"
   ]
  },
  {
   "cell_type": "markdown",
   "id": "db5b8ea6-d67c-450e-becb-02e84f3ad386",
   "metadata": {},
   "source": [
    "##### Merging data"
   ]
  },
  {
   "cell_type": "code",
   "execution_count": 6,
   "id": "6720abcf-e536-468c-867e-fe24d767f205",
   "metadata": {},
   "outputs": [],
   "source": [
    "df=pd.merge(user,card, left_on='main_id', right_on='client_id', how='inner')"
   ]
  },
  {
   "cell_type": "code",
   "execution_count": 7,
   "id": "888db590-1a6b-4d5a-beca-332b18d45d66",
   "metadata": {},
   "outputs": [
    {
     "data": {
      "text/html": [
       "<div>\n",
       "<style scoped>\n",
       "    .dataframe tbody tr th:only-of-type {\n",
       "        vertical-align: middle;\n",
       "    }\n",
       "\n",
       "    .dataframe tbody tr th {\n",
       "        vertical-align: top;\n",
       "    }\n",
       "\n",
       "    .dataframe thead th {\n",
       "        text-align: right;\n",
       "    }\n",
       "</style>\n",
       "<table border=\"1\" class=\"dataframe\">\n",
       "  <thead>\n",
       "    <tr style=\"text-align: right;\">\n",
       "      <th></th>\n",
       "      <th>main_id</th>\n",
       "      <th>current_age</th>\n",
       "      <th>retirement_age</th>\n",
       "      <th>birth_year</th>\n",
       "      <th>birth_month</th>\n",
       "      <th>gender</th>\n",
       "      <th>address</th>\n",
       "      <th>latitude</th>\n",
       "      <th>longitude</th>\n",
       "      <th>per_capita_income</th>\n",
       "      <th>...</th>\n",
       "      <th>card_brand</th>\n",
       "      <th>card_type</th>\n",
       "      <th>card_number</th>\n",
       "      <th>expires</th>\n",
       "      <th>cvv</th>\n",
       "      <th>has_chip</th>\n",
       "      <th>num_cards_issued</th>\n",
       "      <th>credit_limit</th>\n",
       "      <th>acct_open_date</th>\n",
       "      <th>year_pin_last_changed</th>\n",
       "    </tr>\n",
       "  </thead>\n",
       "  <tbody>\n",
       "    <tr>\n",
       "      <th>0</th>\n",
       "      <td>825</td>\n",
       "      <td>53</td>\n",
       "      <td>66</td>\n",
       "      <td>1966</td>\n",
       "      <td>11</td>\n",
       "      <td>Female</td>\n",
       "      <td>462 Rose Lane</td>\n",
       "      <td>34.15</td>\n",
       "      <td>-117.76</td>\n",
       "      <td>29278</td>\n",
       "      <td>...</td>\n",
       "      <td>Visa</td>\n",
       "      <td>Debit</td>\n",
       "      <td>4344676511950440</td>\n",
       "      <td>2022-12-01</td>\n",
       "      <td>623</td>\n",
       "      <td>YES</td>\n",
       "      <td>2</td>\n",
       "      <td>24295</td>\n",
       "      <td>2002-09-01</td>\n",
       "      <td>2008</td>\n",
       "    </tr>\n",
       "    <tr>\n",
       "      <th>1</th>\n",
       "      <td>825</td>\n",
       "      <td>53</td>\n",
       "      <td>66</td>\n",
       "      <td>1966</td>\n",
       "      <td>11</td>\n",
       "      <td>Female</td>\n",
       "      <td>462 Rose Lane</td>\n",
       "      <td>34.15</td>\n",
       "      <td>-117.76</td>\n",
       "      <td>29278</td>\n",
       "      <td>...</td>\n",
       "      <td>Visa</td>\n",
       "      <td>Debit</td>\n",
       "      <td>4956965974959980</td>\n",
       "      <td>2020-12-01</td>\n",
       "      <td>393</td>\n",
       "      <td>YES</td>\n",
       "      <td>2</td>\n",
       "      <td>21968</td>\n",
       "      <td>2014-04-01</td>\n",
       "      <td>2014</td>\n",
       "    </tr>\n",
       "    <tr>\n",
       "      <th>2</th>\n",
       "      <td>825</td>\n",
       "      <td>53</td>\n",
       "      <td>66</td>\n",
       "      <td>1966</td>\n",
       "      <td>11</td>\n",
       "      <td>Female</td>\n",
       "      <td>462 Rose Lane</td>\n",
       "      <td>34.15</td>\n",
       "      <td>-117.76</td>\n",
       "      <td>29278</td>\n",
       "      <td>...</td>\n",
       "      <td>Visa</td>\n",
       "      <td>Debit</td>\n",
       "      <td>4582313478255490</td>\n",
       "      <td>2024-02-01</td>\n",
       "      <td>719</td>\n",
       "      <td>YES</td>\n",
       "      <td>2</td>\n",
       "      <td>46414</td>\n",
       "      <td>2003-07-01</td>\n",
       "      <td>2004</td>\n",
       "    </tr>\n",
       "    <tr>\n",
       "      <th>3</th>\n",
       "      <td>825</td>\n",
       "      <td>53</td>\n",
       "      <td>66</td>\n",
       "      <td>1966</td>\n",
       "      <td>11</td>\n",
       "      <td>Female</td>\n",
       "      <td>462 Rose Lane</td>\n",
       "      <td>34.15</td>\n",
       "      <td>-117.76</td>\n",
       "      <td>29278</td>\n",
       "      <td>...</td>\n",
       "      <td>Visa</td>\n",
       "      <td>Credit</td>\n",
       "      <td>4879494103069050</td>\n",
       "      <td>2024-08-01</td>\n",
       "      <td>693</td>\n",
       "      <td>NO</td>\n",
       "      <td>1</td>\n",
       "      <td>12400</td>\n",
       "      <td>2003-01-01</td>\n",
       "      <td>2012</td>\n",
       "    </tr>\n",
       "    <tr>\n",
       "      <th>4</th>\n",
       "      <td>825</td>\n",
       "      <td>53</td>\n",
       "      <td>66</td>\n",
       "      <td>1966</td>\n",
       "      <td>11</td>\n",
       "      <td>Female</td>\n",
       "      <td>462 Rose Lane</td>\n",
       "      <td>34.15</td>\n",
       "      <td>-117.76</td>\n",
       "      <td>29278</td>\n",
       "      <td>...</td>\n",
       "      <td>Mastercard</td>\n",
       "      <td>Debit (Prepaid)</td>\n",
       "      <td>5722874738736010</td>\n",
       "      <td>2009-03-01</td>\n",
       "      <td>75</td>\n",
       "      <td>YES</td>\n",
       "      <td>1</td>\n",
       "      <td>28</td>\n",
       "      <td>2008-09-01</td>\n",
       "      <td>2009</td>\n",
       "    </tr>\n",
       "    <tr>\n",
       "      <th>...</th>\n",
       "      <td>...</td>\n",
       "      <td>...</td>\n",
       "      <td>...</td>\n",
       "      <td>...</td>\n",
       "      <td>...</td>\n",
       "      <td>...</td>\n",
       "      <td>...</td>\n",
       "      <td>...</td>\n",
       "      <td>...</td>\n",
       "      <td>...</td>\n",
       "      <td>...</td>\n",
       "      <td>...</td>\n",
       "      <td>...</td>\n",
       "      <td>...</td>\n",
       "      <td>...</td>\n",
       "      <td>...</td>\n",
       "      <td>...</td>\n",
       "      <td>...</td>\n",
       "      <td>...</td>\n",
       "      <td>...</td>\n",
       "      <td>...</td>\n",
       "    </tr>\n",
       "    <tr>\n",
       "      <th>6141</th>\n",
       "      <td>185</td>\n",
       "      <td>47</td>\n",
       "      <td>67</td>\n",
       "      <td>1973</td>\n",
       "      <td>1</td>\n",
       "      <td>Female</td>\n",
       "      <td>276 Fifth Boulevard</td>\n",
       "      <td>40.66</td>\n",
       "      <td>-74.19</td>\n",
       "      <td>15175</td>\n",
       "      <td>...</td>\n",
       "      <td>Amex</td>\n",
       "      <td>Credit</td>\n",
       "      <td>300609782832003</td>\n",
       "      <td>2024-01-01</td>\n",
       "      <td>663</td>\n",
       "      <td>YES</td>\n",
       "      <td>1</td>\n",
       "      <td>6900</td>\n",
       "      <td>2000-11-01</td>\n",
       "      <td>2013</td>\n",
       "    </tr>\n",
       "    <tr>\n",
       "      <th>6142</th>\n",
       "      <td>185</td>\n",
       "      <td>47</td>\n",
       "      <td>67</td>\n",
       "      <td>1973</td>\n",
       "      <td>1</td>\n",
       "      <td>Female</td>\n",
       "      <td>276 Fifth Boulevard</td>\n",
       "      <td>40.66</td>\n",
       "      <td>-74.19</td>\n",
       "      <td>15175</td>\n",
       "      <td>...</td>\n",
       "      <td>Visa</td>\n",
       "      <td>Credit</td>\n",
       "      <td>4718517475996010</td>\n",
       "      <td>2021-01-01</td>\n",
       "      <td>492</td>\n",
       "      <td>YES</td>\n",
       "      <td>2</td>\n",
       "      <td>5700</td>\n",
       "      <td>2012-04-01</td>\n",
       "      <td>2012</td>\n",
       "    </tr>\n",
       "    <tr>\n",
       "      <th>6143</th>\n",
       "      <td>1007</td>\n",
       "      <td>66</td>\n",
       "      <td>60</td>\n",
       "      <td>1954</td>\n",
       "      <td>2</td>\n",
       "      <td>Male</td>\n",
       "      <td>259 Valley Boulevard</td>\n",
       "      <td>40.24</td>\n",
       "      <td>-76.92</td>\n",
       "      <td>25336</td>\n",
       "      <td>...</td>\n",
       "      <td>Mastercard</td>\n",
       "      <td>Credit</td>\n",
       "      <td>5929512204765910</td>\n",
       "      <td>2020-08-01</td>\n",
       "      <td>237</td>\n",
       "      <td>NO</td>\n",
       "      <td>2</td>\n",
       "      <td>9200</td>\n",
       "      <td>2012-02-01</td>\n",
       "      <td>2012</td>\n",
       "    </tr>\n",
       "    <tr>\n",
       "      <th>6144</th>\n",
       "      <td>1110</td>\n",
       "      <td>21</td>\n",
       "      <td>60</td>\n",
       "      <td>1998</td>\n",
       "      <td>11</td>\n",
       "      <td>Female</td>\n",
       "      <td>472 Ocean View Street</td>\n",
       "      <td>42.86</td>\n",
       "      <td>-71.48</td>\n",
       "      <td>32325</td>\n",
       "      <td>...</td>\n",
       "      <td>Mastercard</td>\n",
       "      <td>Debit</td>\n",
       "      <td>5589768928167460</td>\n",
       "      <td>2020-01-01</td>\n",
       "      <td>630</td>\n",
       "      <td>YES</td>\n",
       "      <td>1</td>\n",
       "      <td>28074</td>\n",
       "      <td>2020-01-01</td>\n",
       "      <td>2020</td>\n",
       "    </tr>\n",
       "    <tr>\n",
       "      <th>6145</th>\n",
       "      <td>1110</td>\n",
       "      <td>21</td>\n",
       "      <td>60</td>\n",
       "      <td>1998</td>\n",
       "      <td>11</td>\n",
       "      <td>Female</td>\n",
       "      <td>472 Ocean View Street</td>\n",
       "      <td>42.86</td>\n",
       "      <td>-71.48</td>\n",
       "      <td>32325</td>\n",
       "      <td>...</td>\n",
       "      <td>Visa</td>\n",
       "      <td>Credit</td>\n",
       "      <td>4994011318343990</td>\n",
       "      <td>2020-12-01</td>\n",
       "      <td>120</td>\n",
       "      <td>YES</td>\n",
       "      <td>1</td>\n",
       "      <td>14400</td>\n",
       "      <td>2017-05-01</td>\n",
       "      <td>2017</td>\n",
       "    </tr>\n",
       "  </tbody>\n",
       "</table>\n",
       "<p>6146 rows × 26 columns</p>\n",
       "</div>"
      ],
      "text/plain": [
       "      main_id  current_age  retirement_age  birth_year  birth_month  gender  \\\n",
       "0         825           53              66        1966           11  Female   \n",
       "1         825           53              66        1966           11  Female   \n",
       "2         825           53              66        1966           11  Female   \n",
       "3         825           53              66        1966           11  Female   \n",
       "4         825           53              66        1966           11  Female   \n",
       "...       ...          ...             ...         ...          ...     ...   \n",
       "6141      185           47              67        1973            1  Female   \n",
       "6142      185           47              67        1973            1  Female   \n",
       "6143     1007           66              60        1954            2    Male   \n",
       "6144     1110           21              60        1998           11  Female   \n",
       "6145     1110           21              60        1998           11  Female   \n",
       "\n",
       "                    address latitude  longitude  per_capita_income  ...  \\\n",
       "0             462 Rose Lane    34.15    -117.76              29278  ...   \n",
       "1             462 Rose Lane    34.15    -117.76              29278  ...   \n",
       "2             462 Rose Lane    34.15    -117.76              29278  ...   \n",
       "3             462 Rose Lane    34.15    -117.76              29278  ...   \n",
       "4             462 Rose Lane    34.15    -117.76              29278  ...   \n",
       "...                     ...      ...        ...                ...  ...   \n",
       "6141    276 Fifth Boulevard    40.66     -74.19              15175  ...   \n",
       "6142    276 Fifth Boulevard    40.66     -74.19              15175  ...   \n",
       "6143   259 Valley Boulevard    40.24     -76.92              25336  ...   \n",
       "6144  472 Ocean View Street    42.86     -71.48              32325  ...   \n",
       "6145  472 Ocean View Street    42.86     -71.48              32325  ...   \n",
       "\n",
       "      card_brand        card_type       card_number    expires  cvv  has_chip  \\\n",
       "0           Visa            Debit  4344676511950440 2022-12-01  623       YES   \n",
       "1           Visa            Debit  4956965974959980 2020-12-01  393       YES   \n",
       "2           Visa            Debit  4582313478255490 2024-02-01  719       YES   \n",
       "3           Visa           Credit  4879494103069050 2024-08-01  693        NO   \n",
       "4     Mastercard  Debit (Prepaid)  5722874738736010 2009-03-01   75       YES   \n",
       "...          ...              ...               ...        ...  ...       ...   \n",
       "6141        Amex           Credit   300609782832003 2024-01-01  663       YES   \n",
       "6142        Visa           Credit  4718517475996010 2021-01-01  492       YES   \n",
       "6143  Mastercard           Credit  5929512204765910 2020-08-01  237        NO   \n",
       "6144  Mastercard            Debit  5589768928167460 2020-01-01  630       YES   \n",
       "6145        Visa           Credit  4994011318343990 2020-12-01  120       YES   \n",
       "\n",
       "     num_cards_issued credit_limit  acct_open_date year_pin_last_changed  \n",
       "0                   2        24295      2002-09-01                  2008  \n",
       "1                   2        21968      2014-04-01                  2014  \n",
       "2                   2        46414      2003-07-01                  2004  \n",
       "3                   1        12400      2003-01-01                  2012  \n",
       "4                   1           28      2008-09-01                  2009  \n",
       "...               ...          ...             ...                   ...  \n",
       "6141                1         6900      2000-11-01                  2013  \n",
       "6142                2         5700      2012-04-01                  2012  \n",
       "6143                2         9200      2012-02-01                  2012  \n",
       "6144                1        28074      2020-01-01                  2020  \n",
       "6145                1        14400      2017-05-01                  2017  \n",
       "\n",
       "[6146 rows x 26 columns]"
      ]
     },
     "execution_count": 7,
     "metadata": {},
     "output_type": "execute_result"
    }
   ],
   "source": [
    "df"
   ]
  },
  {
   "cell_type": "markdown",
   "id": "921718bc-1345-47a8-b5a1-4d0834fa29d2",
   "metadata": {
    "jp-MarkdownHeadingCollapsed": true
   },
   "source": [
    "### Data Cleaning"
   ]
  },
  {
   "cell_type": "code",
   "execution_count": 8,
   "id": "6eae0031-0a65-48c4-b215-de40239637b3",
   "metadata": {},
   "outputs": [
    {
     "name": "stdout",
     "output_type": "stream",
     "text": [
      "0 , 0\n"
     ]
    }
   ],
   "source": [
    "#Checking for duplicated values\n",
    "print(df.duplicated().sum(), ',',df.card_id.duplicated().sum())"
   ]
  },
  {
   "cell_type": "markdown",
   "id": "4146202e-308a-460f-a7af-71efe0ffb582",
   "metadata": {},
   "source": [
    "From here we can see that the primary key in this dataset is the card_id"
   ]
  },
  {
   "cell_type": "code",
   "execution_count": 9,
   "id": "2b74ef6d-2855-482f-8cec-c2d5e0ed76df",
   "metadata": {},
   "outputs": [
    {
     "data": {
      "text/plain": [
       "main_id                  0\n",
       "current_age              0\n",
       "retirement_age           0\n",
       "birth_year               0\n",
       "birth_month              0\n",
       "gender                   0\n",
       "address                  0\n",
       "latitude                 0\n",
       "longitude                0\n",
       "per_capita_income        0\n",
       "yearly_income            0\n",
       "total_debt               0\n",
       "credit_score             0\n",
       "num_credit_cards         0\n",
       "card_id                  0\n",
       "client_id                0\n",
       "card_brand               0\n",
       "card_type                0\n",
       "card_number              0\n",
       "expires                  0\n",
       "cvv                      0\n",
       "has_chip                 0\n",
       "num_cards_issued         0\n",
       "credit_limit             0\n",
       "acct_open_date           0\n",
       "year_pin_last_changed    0\n",
       "dtype: int64"
      ]
     },
     "execution_count": 9,
     "metadata": {},
     "output_type": "execute_result"
    }
   ],
   "source": [
    "#Checking for null values\n",
    "df.isna().sum()"
   ]
  },
  {
   "cell_type": "code",
   "execution_count": 10,
   "id": "51965c8b-098f-4db9-a67b-d2ffcba9df50",
   "metadata": {},
   "outputs": [
    {
     "data": {
      "text/plain": [
       "2288      1\n",
       "2286      1\n",
       "2287      1\n",
       "5212      2\n",
       "5211      2\n",
       "5210      2\n",
       "5209      2\n",
       "5207      2\n",
       "5208      2\n",
       "4145      3\n",
       "4146      3\n",
       "4771      4\n",
       "4773      4\n",
       "4772      4\n",
       "5343    399\n",
       "5344    399\n",
       "5345    399\n",
       "1978    553\n",
       "1980    553\n",
       "1979    553\n",
       "4410    645\n",
       "4412    645\n",
       "4411    645\n",
       "2245    920\n",
       "2244    920\n",
       "2243    920\n",
       "Name: yearly_income, dtype: int64"
      ]
     },
     "execution_count": 10,
     "metadata": {},
     "output_type": "execute_result"
    }
   ],
   "source": [
    "df[df.yearly_income<1000].yearly_income.sort_values()"
   ]
  },
  {
   "cell_type": "code",
   "execution_count": 11,
   "id": "9369c911-66b9-4ceb-894c-275417034a7b",
   "metadata": {},
   "outputs": [],
   "source": [
    "# Eliminating unrealistic Yearly_income\n",
    "df=df[df.yearly_income>399]"
   ]
  },
  {
   "cell_type": "markdown",
   "id": "4d647cdd-c0ca-45e8-9900-1a1de73864e5",
   "metadata": {
    "jp-MarkdownHeadingCollapsed": true
   },
   "source": [
    "### Gender Ratio"
   ]
  },
  {
   "cell_type": "code",
   "execution_count": 18,
   "id": "97e07771-a9d7-4e9a-8255-de544c4f93f7",
   "metadata": {},
   "outputs": [],
   "source": [
    "male=user[user.gender == 'Male'].reset_index()"
   ]
  },
  {
   "cell_type": "code",
   "execution_count": 19,
   "id": "a5627e2e-88fd-4943-8e58-edf29a191e1b",
   "metadata": {},
   "outputs": [],
   "source": [
    "male=male.drop(columns='index')"
   ]
  },
  {
   "cell_type": "code",
   "execution_count": 20,
   "id": "0ac1e00a-b57a-421a-bf25-918ab6381232",
   "metadata": {},
   "outputs": [
    {
     "data": {
      "text/html": [
       "<div>\n",
       "<style scoped>\n",
       "    .dataframe tbody tr th:only-of-type {\n",
       "        vertical-align: middle;\n",
       "    }\n",
       "\n",
       "    .dataframe tbody tr th {\n",
       "        vertical-align: top;\n",
       "    }\n",
       "\n",
       "    .dataframe thead th {\n",
       "        text-align: right;\n",
       "    }\n",
       "</style>\n",
       "<table border=\"1\" class=\"dataframe\">\n",
       "  <thead>\n",
       "    <tr style=\"text-align: right;\">\n",
       "      <th></th>\n",
       "      <th>main_id</th>\n",
       "      <th>current_age</th>\n",
       "      <th>retirement_age</th>\n",
       "      <th>birth_year</th>\n",
       "      <th>birth_month</th>\n",
       "      <th>gender</th>\n",
       "      <th>address</th>\n",
       "      <th>latitude</th>\n",
       "      <th>longitude</th>\n",
       "      <th>per_capita_income</th>\n",
       "      <th>yearly_income</th>\n",
       "      <th>total_debt</th>\n",
       "      <th>credit_score</th>\n",
       "      <th>num_credit_cards</th>\n",
       "    </tr>\n",
       "  </thead>\n",
       "  <tbody>\n",
       "    <tr>\n",
       "      <th>0</th>\n",
       "      <td>1164</td>\n",
       "      <td>43</td>\n",
       "      <td>70</td>\n",
       "      <td>1976</td>\n",
       "      <td>9</td>\n",
       "      <td>Male</td>\n",
       "      <td>9620 Valley Stream Drive</td>\n",
       "      <td>37.76</td>\n",
       "      <td>-122.44</td>\n",
       "      <td>53797</td>\n",
       "      <td>109687</td>\n",
       "      <td>183855</td>\n",
       "      <td>675</td>\n",
       "      <td>1</td>\n",
       "    </tr>\n",
       "    <tr>\n",
       "      <th>1</th>\n",
       "      <td>68</td>\n",
       "      <td>42</td>\n",
       "      <td>70</td>\n",
       "      <td>1977</td>\n",
       "      <td>10</td>\n",
       "      <td>Male</td>\n",
       "      <td>58 Birch Lane</td>\n",
       "      <td>41.55</td>\n",
       "      <td>-90.60</td>\n",
       "      <td>20599</td>\n",
       "      <td>41997</td>\n",
       "      <td>0</td>\n",
       "      <td>704</td>\n",
       "      <td>3</td>\n",
       "    </tr>\n",
       "    <tr>\n",
       "      <th>2</th>\n",
       "      <td>1711</td>\n",
       "      <td>26</td>\n",
       "      <td>67</td>\n",
       "      <td>1993</td>\n",
       "      <td>12</td>\n",
       "      <td>Male</td>\n",
       "      <td>1941 Ninth Street</td>\n",
       "      <td>45.51</td>\n",
       "      <td>-122.64</td>\n",
       "      <td>26790</td>\n",
       "      <td>54623</td>\n",
       "      <td>114711</td>\n",
       "      <td>728</td>\n",
       "      <td>1</td>\n",
       "    </tr>\n",
       "    <tr>\n",
       "      <th>3</th>\n",
       "      <td>192</td>\n",
       "      <td>27</td>\n",
       "      <td>66</td>\n",
       "      <td>1992</td>\n",
       "      <td>6</td>\n",
       "      <td>Male</td>\n",
       "      <td>888 Fifth Lane</td>\n",
       "      <td>38.65</td>\n",
       "      <td>-121.25</td>\n",
       "      <td>27548</td>\n",
       "      <td>56164</td>\n",
       "      <td>15224</td>\n",
       "      <td>761</td>\n",
       "      <td>2</td>\n",
       "    </tr>\n",
       "    <tr>\n",
       "      <th>4</th>\n",
       "      <td>1094</td>\n",
       "      <td>34</td>\n",
       "      <td>62</td>\n",
       "      <td>1985</td>\n",
       "      <td>10</td>\n",
       "      <td>Male</td>\n",
       "      <td>74786 Jefferson Drive</td>\n",
       "      <td>44.75</td>\n",
       "      <td>-85.60</td>\n",
       "      <td>20325</td>\n",
       "      <td>41442</td>\n",
       "      <td>78833</td>\n",
       "      <td>712</td>\n",
       "      <td>3</td>\n",
       "    </tr>\n",
       "    <tr>\n",
       "      <th>...</th>\n",
       "      <td>...</td>\n",
       "      <td>...</td>\n",
       "      <td>...</td>\n",
       "      <td>...</td>\n",
       "      <td>...</td>\n",
       "      <td>...</td>\n",
       "      <td>...</td>\n",
       "      <td>...</td>\n",
       "      <td>...</td>\n",
       "      <td>...</td>\n",
       "      <td>...</td>\n",
       "      <td>...</td>\n",
       "      <td>...</td>\n",
       "      <td>...</td>\n",
       "    </tr>\n",
       "    <tr>\n",
       "      <th>979</th>\n",
       "      <td>1380</td>\n",
       "      <td>37</td>\n",
       "      <td>66</td>\n",
       "      <td>1982</td>\n",
       "      <td>9</td>\n",
       "      <td>Male</td>\n",
       "      <td>566 Lexington Drive</td>\n",
       "      <td>33.62</td>\n",
       "      <td>-112.13</td>\n",
       "      <td>20815</td>\n",
       "      <td>42444</td>\n",
       "      <td>77510</td>\n",
       "      <td>736</td>\n",
       "      <td>2</td>\n",
       "    </tr>\n",
       "    <tr>\n",
       "      <th>980</th>\n",
       "      <td>932</td>\n",
       "      <td>67</td>\n",
       "      <td>69</td>\n",
       "      <td>1953</td>\n",
       "      <td>2</td>\n",
       "      <td>Male</td>\n",
       "      <td>295 West Avenue</td>\n",
       "      <td>32.36</td>\n",
       "      <td>-92.97</td>\n",
       "      <td>16760</td>\n",
       "      <td>34172</td>\n",
       "      <td>71366</td>\n",
       "      <td>811</td>\n",
       "      <td>6</td>\n",
       "    </tr>\n",
       "    <tr>\n",
       "      <th>981</th>\n",
       "      <td>588</td>\n",
       "      <td>21</td>\n",
       "      <td>66</td>\n",
       "      <td>1998</td>\n",
       "      <td>6</td>\n",
       "      <td>Male</td>\n",
       "      <td>2183 Catherine Boulevard</td>\n",
       "      <td>38.47</td>\n",
       "      <td>-90.75</td>\n",
       "      <td>23106</td>\n",
       "      <td>47109</td>\n",
       "      <td>76035</td>\n",
       "      <td>844</td>\n",
       "      <td>3</td>\n",
       "    </tr>\n",
       "    <tr>\n",
       "      <th>982</th>\n",
       "      <td>986</td>\n",
       "      <td>32</td>\n",
       "      <td>70</td>\n",
       "      <td>1987</td>\n",
       "      <td>7</td>\n",
       "      <td>Male</td>\n",
       "      <td>6577 Lexington Lane</td>\n",
       "      <td>40.65</td>\n",
       "      <td>-73.58</td>\n",
       "      <td>23550</td>\n",
       "      <td>48010</td>\n",
       "      <td>87837</td>\n",
       "      <td>703</td>\n",
       "      <td>3</td>\n",
       "    </tr>\n",
       "    <tr>\n",
       "      <th>983</th>\n",
       "      <td>1007</td>\n",
       "      <td>66</td>\n",
       "      <td>60</td>\n",
       "      <td>1954</td>\n",
       "      <td>2</td>\n",
       "      <td>Male</td>\n",
       "      <td>259 Valley Boulevard</td>\n",
       "      <td>40.24</td>\n",
       "      <td>-76.92</td>\n",
       "      <td>25336</td>\n",
       "      <td>54654</td>\n",
       "      <td>27241</td>\n",
       "      <td>618</td>\n",
       "      <td>1</td>\n",
       "    </tr>\n",
       "  </tbody>\n",
       "</table>\n",
       "<p>984 rows × 14 columns</p>\n",
       "</div>"
      ],
      "text/plain": [
       "     main_id  current_age  retirement_age  birth_year  birth_month gender  \\\n",
       "0       1164           43              70        1976            9   Male   \n",
       "1         68           42              70        1977           10   Male   \n",
       "2       1711           26              67        1993           12   Male   \n",
       "3        192           27              66        1992            6   Male   \n",
       "4       1094           34              62        1985           10   Male   \n",
       "..       ...          ...             ...         ...          ...    ...   \n",
       "979     1380           37              66        1982            9   Male   \n",
       "980      932           67              69        1953            2   Male   \n",
       "981      588           21              66        1998            6   Male   \n",
       "982      986           32              70        1987            7   Male   \n",
       "983     1007           66              60        1954            2   Male   \n",
       "\n",
       "                      address latitude  longitude  per_capita_income  \\\n",
       "0    9620 Valley Stream Drive    37.76    -122.44              53797   \n",
       "1               58 Birch Lane    41.55     -90.60              20599   \n",
       "2           1941 Ninth Street    45.51    -122.64              26790   \n",
       "3              888 Fifth Lane    38.65    -121.25              27548   \n",
       "4       74786 Jefferson Drive    44.75     -85.60              20325   \n",
       "..                        ...      ...        ...                ...   \n",
       "979       566 Lexington Drive    33.62    -112.13              20815   \n",
       "980           295 West Avenue    32.36     -92.97              16760   \n",
       "981  2183 Catherine Boulevard    38.47     -90.75              23106   \n",
       "982       6577 Lexington Lane    40.65     -73.58              23550   \n",
       "983      259 Valley Boulevard    40.24     -76.92              25336   \n",
       "\n",
       "     yearly_income  total_debt  credit_score  num_credit_cards  \n",
       "0           109687      183855           675                 1  \n",
       "1            41997           0           704                 3  \n",
       "2            54623      114711           728                 1  \n",
       "3            56164       15224           761                 2  \n",
       "4            41442       78833           712                 3  \n",
       "..             ...         ...           ...               ...  \n",
       "979          42444       77510           736                 2  \n",
       "980          34172       71366           811                 6  \n",
       "981          47109       76035           844                 3  \n",
       "982          48010       87837           703                 3  \n",
       "983          54654       27241           618                 1  \n",
       "\n",
       "[984 rows x 14 columns]"
      ]
     },
     "execution_count": 20,
     "metadata": {},
     "output_type": "execute_result"
    }
   ],
   "source": [
    "male"
   ]
  },
  {
   "cell_type": "code",
   "execution_count": 21,
   "id": "02b39f22-6c24-4831-8991-f77baf821ad1",
   "metadata": {},
   "outputs": [
    {
     "data": {
      "text/plain": [
       "(984, 14)"
      ]
     },
     "execution_count": 21,
     "metadata": {},
     "output_type": "execute_result"
    }
   ],
   "source": [
    "male.shape"
   ]
  },
  {
   "cell_type": "code",
   "execution_count": 22,
   "id": "d4c06b11-6050-4c63-9018-0d5e7a6b992a",
   "metadata": {},
   "outputs": [],
   "source": [
    "female=user[user.gender == 'Female'].reset_index()\n"
   ]
  },
  {
   "cell_type": "code",
   "execution_count": 23,
   "id": "d5554f50-4735-48b7-8b31-c5f92e06e3f4",
   "metadata": {},
   "outputs": [],
   "source": [
    "female=female.drop(columns='index')"
   ]
  },
  {
   "cell_type": "code",
   "execution_count": 24,
   "id": "975d8d39-768f-40c4-a674-1c6e912d068d",
   "metadata": {},
   "outputs": [
    {
     "data": {
      "text/plain": [
       "(1016, 14)"
      ]
     },
     "execution_count": 24,
     "metadata": {},
     "output_type": "execute_result"
    }
   ],
   "source": [
    "female.shape"
   ]
  },
  {
   "cell_type": "markdown",
   "id": "3f1ac071-26df-4dd0-ab04-b61ae9f57a80",
   "metadata": {},
   "source": [
    "#### Male to Female ratio =  2996 : 3133  "
   ]
  },
  {
   "cell_type": "code",
   "execution_count": null,
   "id": "2cbbe984-c9e3-4fc9-b833-3503d8d12f22",
   "metadata": {},
   "outputs": [],
   "source": []
  },
  {
   "cell_type": "markdown",
   "id": "931004af-8100-4ec5-9d33-c7ba6ab44618",
   "metadata": {
    "jp-MarkdownHeadingCollapsed": true
   },
   "source": [
    "### Age Distribution"
   ]
  },
  {
   "cell_type": "code",
   "execution_count": null,
   "id": "a9a953d1-bbf6-4761-8c59-43dd94e0c9fa",
   "metadata": {},
   "outputs": [],
   "source": [
    "ages=df[['client_id','current_age']]\n",
    "ages\n",
    "## Extracting the needed column"
   ]
  },
  {
   "cell_type": "code",
   "execution_count": null,
   "id": "d0329c5b-740e-4d2b-aa6e-5ffdb7266382",
   "metadata": {},
   "outputs": [],
   "source": [
    "ages.duplicated().sum()"
   ]
  },
  {
   "cell_type": "markdown",
   "id": "ed832e19-c62b-4725-b7a9-dea37a322aa2",
   "metadata": {},
   "source": [
    "#### Since we are dealing with customer detail and not card details, we have to remove duplicated with respect to a unique customer detail"
   ]
  },
  {
   "cell_type": "code",
   "execution_count": null,
   "id": "172d2386-ddda-4b7d-b1a3-65838e377a0c",
   "metadata": {},
   "outputs": [],
   "source": [
    "ages=ages.drop_duplicates()"
   ]
  },
  {
   "cell_type": "code",
   "execution_count": null,
   "id": "caa42cd7-a7c7-49f5-96a4-830d7773f350",
   "metadata": {},
   "outputs": [],
   "source": [
    "ages.sort_values('current_age')\n",
    "ages"
   ]
  },
  {
   "cell_type": "code",
   "execution_count": null,
   "id": "abaaf9ce-08a1-4ba5-8597-5fc1526b6f3f",
   "metadata": {},
   "outputs": [],
   "source": [
    "print('Age Range :',ages.current_age.min(),'-',ages.current_age.max())"
   ]
  },
  {
   "cell_type": "markdown",
   "id": "cec1c499-bf6d-4525-8771-8a36799d085b",
   "metadata": {},
   "source": [
    "#### Segmenting Customer's Age"
   ]
  },
  {
   "cell_type": "code",
   "execution_count": null,
   "id": "86cdf0e2-05e4-4621-8169-e8033dbce236",
   "metadata": {},
   "outputs": [],
   "source": [
    "def age(dist):\n",
    "    if dist >=18 and dist <= 25:\n",
    "        return 'Young Adults'\n",
    "    elif dist >=26 and dist<= 35: \n",
    "        return 'Early Career Professionals'\n",
    "    elif dist >=36 and dist<=50:\n",
    "        return 'Mid-Career Individuals'\n",
    "    elif dist >=51 and dist<=65:\n",
    "        return 'Late Career & Pre-Retirement'\n",
    "    elif dist >=66 and dist<=80:\n",
    "        return 'Retirees'\n",
    "    else:\n",
    "        return 'Elderly'"
   ]
  },
  {
   "cell_type": "code",
   "execution_count": null,
   "id": "68d86e23-3ddc-497b-a7bd-dc8f130bb0ab",
   "metadata": {},
   "outputs": [],
   "source": [
    "df['age_segment']= df.current_age.apply(age)"
   ]
  },
  {
   "cell_type": "code",
   "execution_count": null,
   "id": "06f63031-db6d-413a-a3e5-a51971f523dc",
   "metadata": {},
   "outputs": [],
   "source": [
    "df.head(3)"
   ]
  },
  {
   "cell_type": "code",
   "execution_count": null,
   "id": "f3966166-cfc6-4c67-99ba-979484325214",
   "metadata": {},
   "outputs": [],
   "source": [
    "age_segment=df.age_segment.value_counts().reset_index()\n",
    "age_segment"
   ]
  },
  {
   "cell_type": "code",
   "execution_count": null,
   "id": "ec269415-f8ce-4231-a933-8399bcc79163",
   "metadata": {},
   "outputs": [],
   "source": [
    "# Renaming the columns\n",
    "age_segment=age_segment.rename(columns={'age_segment':'counts'})\n",
    "age_segment=age_segment.rename(columns={'index':'age_segment'})\n",
    "age_segment"
   ]
  },
  {
   "cell_type": "code",
   "execution_count": null,
   "id": "ea6a8634-f007-48ba-933c-ed96bc8caed8",
   "metadata": {},
   "outputs": [],
   "source": [
    "plt.figure(figsize=(20,8))\n",
    "plt.bar(age_segment.age_segment,age_segment['counts'], width=0.7)\n",
    "plt.xticks(fontsize=12)\n",
    "plt.title('Age Categories of Customer', color='r')\n",
    "plt.xlabel('Age Category', color='red')\n",
    "plt.ylabel('Count', color='red')\n",
    "plt.show"
   ]
  },
  {
   "cell_type": "markdown",
   "id": "6e5a5831-3d0f-4df0-b5cc-c8e1a7c06e25",
   "metadata": {},
   "source": [
    "#### Extracting the count of Each unique age of customers"
   ]
  },
  {
   "cell_type": "code",
   "execution_count": null,
   "id": "3d448a84-045c-43f6-9bc9-a10d4574472b",
   "metadata": {},
   "outputs": [],
   "source": [
    "age_count = ages.pivot_table(index=\"current_age\", values=\"client_id\", aggfunc=\"count\")\n",
    "age_count"
   ]
  },
  {
   "cell_type": "code",
   "execution_count": null,
   "id": "499421cc-2ba7-4770-bb37-32b2905a3710",
   "metadata": {},
   "outputs": [],
   "source": [
    "age_count.rename(columns={'client_id':'count'}, inplace=True)"
   ]
  },
  {
   "cell_type": "code",
   "execution_count": null,
   "id": "476ae59a-ad08-49a8-9e1b-249c2ac542c3",
   "metadata": {},
   "outputs": [],
   "source": [
    "age_count=pivot_1.reset_index()\n",
    "age_count.sort_values('count', ascending= False)"
   ]
  },
  {
   "cell_type": "code",
   "execution_count": null,
   "id": "0a29ddba-7355-4213-b17f-b05f8e00feaf",
   "metadata": {},
   "outputs": [],
   "source": [
    "plt.figure(figsize=(12,5))\n",
    "plt.hist(age_count.current_age,weights=age_count['count'], bins=20, edgecolor='black')\n",
    "plt.title('Age_Distribution')\n",
    "plt.xlabel('Age')\n",
    "plt.show()"
   ]
  },
  {
   "cell_type": "markdown",
   "id": "734e056b-2e2b-4da3-8188-772ff512c33d",
   "metadata": {
    "jp-MarkdownHeadingCollapsed": true
   },
   "source": [
    "### Income Distribution"
   ]
  },
  {
   "cell_type": "markdown",
   "id": "73b89ec3-2ec2-4591-91fe-c1a85141637d",
   "metadata": {},
   "source": [
    "#### Segmenting the Customer Yearly_Income"
   ]
  },
  {
   "cell_type": "code",
   "execution_count": null,
   "id": "54597da2-7fc3-419f-94eb-6632abb06db1",
   "metadata": {},
   "outputs": [],
   "source": [
    "def income(customers):\n",
    "    if customers <= 50000:\n",
    "        return 'Low_Income_Customer'\n",
    "    elif customers  >=100000:\n",
    "        return 'High_Income_Customer'\n",
    "    else:\n",
    "        return 'Mid-range_Income_Customer'\n",
    "        "
   ]
  },
  {
   "cell_type": "code",
   "execution_count": null,
   "id": "257e246a-ed24-48f8-94dd-770906288406",
   "metadata": {},
   "outputs": [],
   "source": [
    "df['Income_Category']= df.yearly_income.apply(income)"
   ]
  },
  {
   "cell_type": "code",
   "execution_count": null,
   "id": "7fcccf0c-468e-47be-a19c-38429b0fc1fe",
   "metadata": {},
   "outputs": [],
   "source": [
    "income_segment=df.Income_Category.value_counts().reset_index()\n",
    "income_segment=income_segment.rename(columns={'Income_Category':'counts'})\n",
    "income_segment=income_segment.rename(columns={'index':'Income_Category'})\n",
    "income_segment"
   ]
  },
  {
   "cell_type": "markdown",
   "id": "e8515bb8-1db7-4a1b-b706-85c31379cfad",
   "metadata": {},
   "source": [
    "##### Pivoting The Credit_Score_Category and the Income_category"
   ]
  },
  {
   "cell_type": "code",
   "execution_count": null,
   "id": "b10e9108-e51e-4ddf-9f6a-9a01fa2bd61b",
   "metadata": {},
   "outputs": [],
   "source": [
    "def credit(score):\n",
    "    if score >= 740:\n",
    "        return 'Good credit score'\n",
    "    elif score >= 540:\n",
    "        return 'Fair credit score'\n",
    "    else:  \n",
    "        return 'Bad credit score' \n"
   ]
  },
  {
   "cell_type": "code",
   "execution_count": null,
   "id": "2fb96d44-1f1e-4208-9ece-b93c93fc43db",
   "metadata": {},
   "outputs": [],
   "source": [
    "df['Credit_Score_Category']= df.credit_score.apply(credit)"
   ]
  },
  {
   "cell_type": "code",
   "execution_count": null,
   "id": "6d32ae94-2a4d-468b-ad78-5fc4288937bb",
   "metadata": {},
   "outputs": [],
   "source": [
    "pivot=df.pivot_table(index='Credit_Score_Category',columns='Income_Category', values='main_id', aggfunc='count')\n",
    "pivot"
   ]
  },
  {
   "cell_type": "code",
   "execution_count": null,
   "id": "0598356a-5372-4219-88cc-9e2f74fea53e",
   "metadata": {},
   "outputs": [],
   "source": [
    "pivot.plot(kind='bar', figsize=(10,6), colormap='viridis')\n",
    "\n",
    "plt.title(\"Income Categories vs Credit Score\")\n",
    "plt.xlabel(\"Credit Score Category\")\n",
    "plt.ylabel(\"Number of Customers\")\n",
    "plt.legend(title=\"Income Category\")\n",
    "plt.xticks(rotation=0)\n",
    "plt.show()\n"
   ]
  },
  {
   "cell_type": "markdown",
   "id": "2969d41e-a09d-406a-9d99-2b5a30a48367",
   "metadata": {
    "jp-MarkdownHeadingCollapsed": true
   },
   "source": [
    "### Credit Risk Analysis"
   ]
  },
  {
   "cell_type": "code",
   "execution_count": null,
   "id": "da317315-0f35-4cd8-9bda-5c7c14ee587e",
   "metadata": {},
   "outputs": [],
   "source": [
    "debt=df[['total_debt','yearly_income']]\n",
    "debt=debt.drop_duplicates().sort_values('total_debt', ascending=False)\n",
    "debt"
   ]
  },
  {
   "cell_type": "markdown",
   "id": "eb26a767-edad-4a3d-a86e-fad571a326c1",
   "metadata": {},
   "source": [
    "#### To analyse customer debt, we have to elimate rows of customers without debt"
   ]
  },
  {
   "cell_type": "code",
   "execution_count": null,
   "id": "a92776ce-2aeb-4378-8846-ff02bddfb66f",
   "metadata": {},
   "outputs": [],
   "source": [
    "debt=debt[debt.total_debt > 0 ]"
   ]
  },
  {
   "cell_type": "markdown",
   "id": "e6d0c711-b1f6-4682-86a9-20b0d41d0940",
   "metadata": {},
   "source": [
    "#### To assess credit risk, we use the **Debt-to-Income Ratio (DTI)** to understand a borrower's ability to manage debt compared to their income. A **higher DTI** means greater financial strain and a higher risk of default, A **lower DTI** indicates better financial stability and lower credit risk. (Note that: Lenders rely on this ratio to determine loan eligibility, set interest rates, and evaluate the likelihood of repayment). The **DTI** in this analysis ranged from a minimum of **0.13%** to a maximum of **497.86%**. A **DTI greater than 100%** means that a person’s debt payments exceed their income. This is a sign of **high credit risk**, as they may need to rely on savings or new debt to meet financial obligations. Lenders may see such borrowers as risky and could: **Deny credit**, **Offer loans with higher interest rates**, **Require collateral** to reduce their risk "
   ]
  },
  {
   "cell_type": "code",
   "execution_count": null,
   "id": "7751700a-6454-4a6e-ab11-a64d48d5d574",
   "metadata": {},
   "outputs": [],
   "source": [
    "debt['DTI']= (debt['total_debt']/debt['yearly_income']) * 100"
   ]
  },
  {
   "cell_type": "code",
   "execution_count": null,
   "id": "dd8e5f26-0180-4699-8c5e-70958ba8de2c",
   "metadata": {},
   "outputs": [],
   "source": [
    "debt=debt.sort_values('DTI')"
   ]
  },
  {
   "cell_type": "code",
   "execution_count": null,
   "id": "ccd3cf7c-13d3-44ed-a9f8-e6731635c43b",
   "metadata": {},
   "outputs": [],
   "source": [
    "debt"
   ]
  },
  {
   "cell_type": "code",
   "execution_count": null,
   "id": "141c8825-0287-411a-b155-458fe099e135",
   "metadata": {},
   "outputs": [],
   "source": [
    "print('Number of Customers Least Likely to Repay Debt Due to High DTI:', debt[debt['DTI'] > 100].DTI.count())"
   ]
  },
  {
   "cell_type": "markdown",
   "id": "ebbeedb1-71a7-4cb6-b569-031ce3cf2cb6",
   "metadata": {
    "jp-MarkdownHeadingCollapsed": true
   },
   "source": [
    "### Insights for Marketing"
   ]
  },
  {
   "cell_type": "code",
   "execution_count": null,
   "id": "0e152f4a-9fe7-4da4-8822-e25dde4a6ee9",
   "metadata": {},
   "outputs": [],
   "source": [
    "def customer_segment(row):\n",
    "    if row['credit_score'] >= 740 and row['yearly_income'] > 100000:\n",
    "        return \"High-Value Customers\"\n",
    "    elif row['credit_score'] >= 700 and row['yearly_income'] >= 40000:\n",
    "        return \"Growth Potential Customers\"\n",
    "    elif row['credit_score'] < 650 and row['card_type'] == 'debit':\n",
    "        return \"Prepaid/Debit Users\"\n",
    "    else:\n",
    "        return \"General Customers\"\n",
    "\n",
    "df['customer_segment'] = df.apply(customer_segment, axis=1)\n",
    "\n",
    "# View the segmentation\n",
    "df['customer_segment'].value_counts()"
   ]
  },
  {
   "cell_type": "code",
   "execution_count": null,
   "id": "287aeccc-ae7d-42d4-beed-fe3e5abef402",
   "metadata": {},
   "outputs": [],
   "source": [
    "import seaborn as sns\n",
    "plt.figure(figsize=(10,6))\n",
    "sns.scatterplot(x=df['yearly_income'], y=df['credit_score'], hue=df['customer_segment'])\n",
    "plt.title(\"Credit Score vs Income Segmentation\")\n",
    "plt.show()"
   ]
  },
  {
   "cell_type": "markdown",
   "id": "269902b0-4c0b-49bb-93f8-0c702e4282ce",
   "metadata": {},
   "source": [
    "### General Customers (4,107 customers):\n",
    "* #### Need broad engagement strategies like loyalty programs and personalized recommendations.\n",
    "* #### Awareness campaigns can keep them engaged.\n",
    "\n",
    "\n",
    "### Growth Potential Customers (1,962 customers):\n",
    "* #### Best suited for upselling and cross-selling efforts.\n",
    "* #### Exclusive offers and financial products can increase their spending.\n",
    "\n",
    "### High-Value Customers (60 customers):\n",
    "* #### Require a personalized approach with VIP programs, premium services, and special perks.\n",
    "* #### Ensuring their loyalty is crucial for long-term profitability."
   ]
  },
  {
   "cell_type": "markdown",
   "id": "b90d1057-4831-45e6-8bcd-4b19bbd863b9",
   "metadata": {},
   "source": [
    "### Number of Credit Cards"
   ]
  },
  {
   "cell_type": "code",
   "execution_count": null,
   "id": "df4efddf-cb0a-463a-a559-075e31ca43d6",
   "metadata": {},
   "outputs": [],
   "source": [
    "credit_card=df[df.card_type == 'Credit']\n",
    "credit_card"
   ]
  },
  {
   "cell_type": "code",
   "execution_count": null,
   "id": "caa46e73-0d0a-417c-960f-a0accb0a717d",
   "metadata": {},
   "outputs": [],
   "source": [
    "# credit_card=credit_card[['main_id','card_type']]"
   ]
  },
  {
   "cell_type": "code",
   "execution_count": null,
   "id": "3d3a0086-7c7c-4911-b21c-f11b83967e89",
   "metadata": {},
   "outputs": [],
   "source": [
    "card_pivot=credit_card.pivot_table(index=['client_id'], values='card_type', aggfunc='count')\n",
    "card_pivot=card_pivot.rename(columns={'card_type': 'no_of_card'})"
   ]
  },
  {
   "cell_type": "code",
   "execution_count": null,
   "id": "e83ccca3-7174-45ae-a3bf-a61db37d59bb",
   "metadata": {},
   "outputs": [],
   "source": [
    "card_pivot[card_pivot['no_of_card'] >1].count()"
   ]
  },
  {
   "cell_type": "markdown",
   "id": "13026db5-fc6c-4a8e-9894-cf969e9e2bd1",
   "metadata": {},
   "source": [
    "#### 535 customers have  more than 1 credit card"
   ]
  },
  {
   "cell_type": "code",
   "execution_count": null,
   "id": "08ae9066-f714-4027-a12d-94e09b0aeff9",
   "metadata": {},
   "outputs": [],
   "source": []
  }
 ],
 "metadata": {
  "kernelspec": {
   "display_name": "Python 3 (ipykernel)",
   "language": "python",
   "name": "python3"
  },
  "language_info": {
   "codemirror_mode": {
    "name": "ipython",
    "version": 3
   },
   "file_extension": ".py",
   "mimetype": "text/x-python",
   "name": "python",
   "nbconvert_exporter": "python",
   "pygments_lexer": "ipython3",
   "version": "3.11.7"
  }
 },
 "nbformat": 4,
 "nbformat_minor": 5
}
